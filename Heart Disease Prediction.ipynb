{
 "cells": [
  {
   "cell_type": "code",
   "execution_count": 40,
   "id": "33ec5b37",
   "metadata": {},
   "outputs": [],
   "source": [
    "import numpy as np # linear algebra\n",
    "import pandas as pd # data processing\n",
    "import random\n",
    "import sklearn.linear_model\n",
    "import matplotlib.pyplot as plt #visualization\n",
    "from sklearn.dummy import DummyClassifier\n",
    "from sklearn.model_selection import train_test_split #split data\n",
    "from sklearn.model_selection import GridSearchCV #get best parameters\n",
    "from sklearn.model_selection import learning_curve\n",
    "from sklearn.metrics import classification_report\n",
    "from sklearn.model_selection import validation_curve\n",
    "from sklearn.linear_model import LogisticRegression\n",
    "from sklearn.metrics import accuracy_score\n",
    "from sklearn.neural_network import MLPClassifier\n",
    "from sklearn.svm import SVC\n",
    "RANDOM_SEED = 690\n",
    "CV = 10"
   ]
  },
  {
   "cell_type": "code",
   "execution_count": 41,
   "id": "8926121c",
   "metadata": {},
   "outputs": [],
   "source": [
    "data = pd.read_csv(\"heart.csv\")"
   ]
  },
  {
   "cell_type": "code",
   "execution_count": 42,
   "id": "7bcf7289",
   "metadata": {},
   "outputs": [
    {
     "data": {
      "text/html": [
       "<div>\n",
       "<style scoped>\n",
       "    .dataframe tbody tr th:only-of-type {\n",
       "        vertical-align: middle;\n",
       "    }\n",
       "\n",
       "    .dataframe tbody tr th {\n",
       "        vertical-align: top;\n",
       "    }\n",
       "\n",
       "    .dataframe thead th {\n",
       "        text-align: right;\n",
       "    }\n",
       "</style>\n",
       "<table border=\"1\" class=\"dataframe\">\n",
       "  <thead>\n",
       "    <tr style=\"text-align: right;\">\n",
       "      <th></th>\n",
       "      <th>Age</th>\n",
       "      <th>Sex</th>\n",
       "      <th>ChestPainType</th>\n",
       "      <th>RestingBP</th>\n",
       "      <th>Cholesterol</th>\n",
       "      <th>FastingBS</th>\n",
       "      <th>RestingECG</th>\n",
       "      <th>MaxHR</th>\n",
       "      <th>ExerciseAngina</th>\n",
       "      <th>Oldpeak</th>\n",
       "      <th>ST_Slope</th>\n",
       "      <th>HeartDisease</th>\n",
       "    </tr>\n",
       "  </thead>\n",
       "  <tbody>\n",
       "    <tr>\n",
       "      <th>0</th>\n",
       "      <td>40</td>\n",
       "      <td>M</td>\n",
       "      <td>ATA</td>\n",
       "      <td>140</td>\n",
       "      <td>289</td>\n",
       "      <td>0</td>\n",
       "      <td>Normal</td>\n",
       "      <td>172</td>\n",
       "      <td>N</td>\n",
       "      <td>0.0</td>\n",
       "      <td>Up</td>\n",
       "      <td>0</td>\n",
       "    </tr>\n",
       "    <tr>\n",
       "      <th>1</th>\n",
       "      <td>49</td>\n",
       "      <td>F</td>\n",
       "      <td>NAP</td>\n",
       "      <td>160</td>\n",
       "      <td>180</td>\n",
       "      <td>0</td>\n",
       "      <td>Normal</td>\n",
       "      <td>156</td>\n",
       "      <td>N</td>\n",
       "      <td>1.0</td>\n",
       "      <td>Flat</td>\n",
       "      <td>1</td>\n",
       "    </tr>\n",
       "    <tr>\n",
       "      <th>2</th>\n",
       "      <td>37</td>\n",
       "      <td>M</td>\n",
       "      <td>ATA</td>\n",
       "      <td>130</td>\n",
       "      <td>283</td>\n",
       "      <td>0</td>\n",
       "      <td>ST</td>\n",
       "      <td>98</td>\n",
       "      <td>N</td>\n",
       "      <td>0.0</td>\n",
       "      <td>Up</td>\n",
       "      <td>0</td>\n",
       "    </tr>\n",
       "    <tr>\n",
       "      <th>3</th>\n",
       "      <td>48</td>\n",
       "      <td>F</td>\n",
       "      <td>ASY</td>\n",
       "      <td>138</td>\n",
       "      <td>214</td>\n",
       "      <td>0</td>\n",
       "      <td>Normal</td>\n",
       "      <td>108</td>\n",
       "      <td>Y</td>\n",
       "      <td>1.5</td>\n",
       "      <td>Flat</td>\n",
       "      <td>1</td>\n",
       "    </tr>\n",
       "    <tr>\n",
       "      <th>4</th>\n",
       "      <td>54</td>\n",
       "      <td>M</td>\n",
       "      <td>NAP</td>\n",
       "      <td>150</td>\n",
       "      <td>195</td>\n",
       "      <td>0</td>\n",
       "      <td>Normal</td>\n",
       "      <td>122</td>\n",
       "      <td>N</td>\n",
       "      <td>0.0</td>\n",
       "      <td>Up</td>\n",
       "      <td>0</td>\n",
       "    </tr>\n",
       "  </tbody>\n",
       "</table>\n",
       "</div>"
      ],
      "text/plain": [
       "   Age Sex ChestPainType  RestingBP  Cholesterol  FastingBS RestingECG  MaxHR  \\\n",
       "0   40   M           ATA        140          289          0     Normal    172   \n",
       "1   49   F           NAP        160          180          0     Normal    156   \n",
       "2   37   M           ATA        130          283          0         ST     98   \n",
       "3   48   F           ASY        138          214          0     Normal    108   \n",
       "4   54   M           NAP        150          195          0     Normal    122   \n",
       "\n",
       "  ExerciseAngina  Oldpeak ST_Slope  HeartDisease  \n",
       "0              N      0.0       Up             0  \n",
       "1              N      1.0     Flat             1  \n",
       "2              N      0.0       Up             0  \n",
       "3              Y      1.5     Flat             1  \n",
       "4              N      0.0       Up             0  "
      ]
     },
     "execution_count": 42,
     "metadata": {},
     "output_type": "execute_result"
    }
   ],
   "source": [
    "data.head()"
   ]
  },
  {
   "cell_type": "code",
   "execution_count": 43,
   "id": "df9e75eb",
   "metadata": {},
   "outputs": [
    {
     "name": "stdout",
     "output_type": "stream",
     "text": [
      "<class 'pandas.core.frame.DataFrame'>\n",
      "RangeIndex: 918 entries, 0 to 917\n",
      "Data columns (total 12 columns):\n",
      " #   Column          Non-Null Count  Dtype  \n",
      "---  ------          --------------  -----  \n",
      " 0   Age             918 non-null    int64  \n",
      " 1   Sex             918 non-null    object \n",
      " 2   ChestPainType   918 non-null    object \n",
      " 3   RestingBP       918 non-null    int64  \n",
      " 4   Cholesterol     918 non-null    int64  \n",
      " 5   FastingBS       918 non-null    int64  \n",
      " 6   RestingECG      918 non-null    object \n",
      " 7   MaxHR           918 non-null    int64  \n",
      " 8   ExerciseAngina  918 non-null    object \n",
      " 9   Oldpeak         918 non-null    float64\n",
      " 10  ST_Slope        918 non-null    object \n",
      " 11  HeartDisease    918 non-null    int64  \n",
      "dtypes: float64(1), int64(6), object(5)\n",
      "memory usage: 86.2+ KB\n"
     ]
    }
   ],
   "source": [
    "data.info()"
   ]
  },
  {
   "cell_type": "code",
   "execution_count": 44,
   "id": "574ab8b7",
   "metadata": {},
   "outputs": [],
   "source": [
    "data['Sex'] = np.where(data['Sex'] == 'M', 1, 0)\n",
    "data['ExerciseAngina'] = np.where(data['ExerciseAngina'] == 'Y', 1, 0)"
   ]
  },
  {
   "cell_type": "code",
   "execution_count": 45,
   "id": "d65afa67",
   "metadata": {},
   "outputs": [],
   "source": [
    "#create target value and label\n",
    "y=data.HeartDisease\n",
    "X=data.drop('HeartDisease', axis=1)\n",
    "\n",
    "#convert to binary\n",
    "X=pd.get_dummies(X)\n",
    "X_train, X_test, y_train, y_test = train_test_split(X, y, test_size=0.25, random_state = RANDOM_SEED)"
   ]
  },
  {
   "cell_type": "code",
   "execution_count": 46,
   "id": "419256d4",
   "metadata": {},
   "outputs": [
    {
     "name": "stdout",
     "output_type": "stream",
     "text": [
      "Performance of Dummy Classifier:\n",
      "              precision    recall  f1-score   support\n",
      "\n",
      "           0       0.00      0.00      0.00       112\n",
      "           1       0.51      1.00      0.68       118\n",
      "\n",
      "    accuracy                           0.51       230\n",
      "   macro avg       0.26      0.50      0.34       230\n",
      "weighted avg       0.26      0.51      0.35       230\n",
      "\n"
     ]
    }
   ],
   "source": [
    "dummy = DummyClassifier(strategy=\"most_frequent\")\n",
    "dummy.fit(X_train, y_train)\n",
    "preds = dummy.predict(X_test)\n",
    "print(\"Performance of Dummy Classifier:\")\n",
    "print(classification_report(y_test, preds, zero_division = 0))"
   ]
  },
  {
   "cell_type": "code",
   "execution_count": 47,
   "id": "55ba78de",
   "metadata": {},
   "outputs": [],
   "source": [
    "logreg = sklearn.linear_model.LogisticRegression(solver='liblinear', random_state = RANDOM_SEED)"
   ]
  },
  {
   "cell_type": "code",
   "execution_count": 48,
   "id": "549bf5e4",
   "metadata": {},
   "outputs": [
    {
     "name": "stdout",
     "output_type": "stream",
     "text": [
      "Fitting 10 folds for each of 8 candidates, totalling 80 fits\n",
      "Best parameters for Logistic Regression:\n",
      "{'C': 1, 'penalty': 'l1'}\n",
      "Performance of Logistic Regression: \n",
      "              precision    recall  f1-score   support\n",
      "\n",
      "           0       0.88      0.79      0.83       112\n",
      "           1       0.82      0.90      0.85       118\n",
      "\n",
      "    accuracy                           0.84       230\n",
      "   macro avg       0.85      0.84      0.84       230\n",
      "weighted avg       0.85      0.84      0.84       230\n",
      "\n"
     ]
    }
   ],
   "source": [
    "param_grid = {'C': [0.1,0.5,1,10], 'penalty': ['l1', 'l2']}\n",
    "lg = GridSearchCV(logreg, param_grid, verbose=True, \n",
    "                   scoring=\"f1\", n_jobs=-1, cv=CV)\n",
    "lg.fit(X_train, y_train)\n",
    "preds = lg.predict(X_test)\n",
    "print(\"Best parameters for Logistic Regression:\")\n",
    "print(lg.best_params_)\n",
    "print(\"Performance of Logistic Regression: \")\n",
    "print(classification_report(y_test, preds))"
   ]
  },
  {
   "cell_type": "code",
   "execution_count": 52,
   "id": "bf904b45",
   "metadata": {
    "scrolled": true
   },
   "outputs": [
    {
     "name": "stdout",
     "output_type": "stream",
     "text": [
      "Fitting 10 folds for each of 54 candidates, totalling 540 fits\n",
      "Best parameters for MLP:\n",
      "{'activation': 'logistic', 'alpha': 0.01, 'hidden_layer_sizes': (50, 50), 'learning_rate': 'constant', 'solver': 'adam'}\n"
     ]
    }
   ],
   "source": [
    "param_grid={\n",
    "    'learning_rate': [\"constant\", \"adaptive\", \"invscaling\"],\n",
    "    'hidden_layer_sizes': [(50,50), (50), (100)],\n",
    "    'alpha': [1e-2],\n",
    "    'solver': ['adam','sgd'],\n",
    "    'activation': [\"relu\", \"tanh\", \"logistic\"]\n",
    "}\n",
    "\n",
    "#Scoring by balanced_accuracy over recall or accuracy gives far better results.\n",
    "mlp = GridSearchCV(MLPClassifier(random_state = RANDOM_SEED, max_iter = 20000), param_grid, verbose=True, \n",
    "                   scoring=\"balanced_accuracy\", n_jobs=-1, cv=CV)\n",
    "\n",
    "mlp.fit(X_train, y_train)\n",
    "print(\"Best parameters for MLP:\")\n",
    "print(mlp.best_params_)"
   ]
  },
  {
   "cell_type": "code",
   "execution_count": 53,
   "id": "33e092a5",
   "metadata": {},
   "outputs": [
    {
     "name": "stdout",
     "output_type": "stream",
     "text": [
      "Performance of MLP: \n",
      "              precision    recall  f1-score   support\n",
      "\n",
      "           0       0.92      0.77      0.84       112\n",
      "           1       0.81      0.94      0.87       118\n",
      "\n",
      "    accuracy                           0.86       230\n",
      "   macro avg       0.87      0.85      0.85       230\n",
      "weighted avg       0.87      0.86      0.86       230\n",
      "\n"
     ]
    }
   ],
   "source": [
    "preds = mlp.predict(X_test)\n",
    "print(\"Performance of MLP: \")\n",
    "print(classification_report(y_test, preds))"
   ]
  },
  {
   "cell_type": "code",
   "execution_count": 12,
   "id": "16a6323e",
   "metadata": {},
   "outputs": [
    {
     "name": "stdout",
     "output_type": "stream",
     "text": [
      "Fitting 10 folds for each of 12 candidates, totalling 120 fits\n",
      "Best parameters are for SVM:\n",
      "{'C': 0.5, 'kernel': 'linear'}\n"
     ]
    }
   ],
   "source": [
    "param_grid =[{'kernel': ['poly'], 'degree': [2, 3], 'C': [0.5,0.1,10]},\n",
    "            {'kernel': ['linear', 'sigmoid'], 'C': [0.5,0.1,10]}]\n",
    "\n",
    "svm = GridSearchCV(SVC(class_weight='balanced', random_state = RANDOM_SEED), param_grid, verbose=True, \n",
    "                   scoring=\"balanced_accuracy\", n_jobs=-1, cv=CV)\n",
    "\n",
    "svm.fit(X_train, np.ravel(y_train))\n",
    "print(\"Best parameters are for SVM:\")\n",
    "print(svm.best_params_)"
   ]
  },
  {
   "cell_type": "code",
   "execution_count": 13,
   "id": "e0cb6553",
   "metadata": {},
   "outputs": [
    {
     "name": "stdout",
     "output_type": "stream",
     "text": [
      "Performance of SVM: \n",
      "              precision    recall  f1-score   support\n",
      "\n",
      "           0       0.89      0.83      0.86       112\n",
      "           1       0.85      0.90      0.87       118\n",
      "\n",
      "    accuracy                           0.87       230\n",
      "   macro avg       0.87      0.86      0.86       230\n",
      "weighted avg       0.87      0.87      0.86       230\n",
      "\n"
     ]
    }
   ],
   "source": [
    "preds = svm.predict(X_test)\n",
    "print(\"Performance of SVM: \")\n",
    "print(classification_report(y_test, preds))"
   ]
  },
  {
   "cell_type": "code",
   "execution_count": null,
   "id": "8084b7cb",
   "metadata": {},
   "outputs": [],
   "source": []
  }
 ],
 "metadata": {
  "kernelspec": {
   "display_name": "Python 3 (ipykernel)",
   "language": "python",
   "name": "python3"
  },
  "language_info": {
   "codemirror_mode": {
    "name": "ipython",
    "version": 3
   },
   "file_extension": ".py",
   "mimetype": "text/x-python",
   "name": "python",
   "nbconvert_exporter": "python",
   "pygments_lexer": "ipython3",
   "version": "3.8.10"
  }
 },
 "nbformat": 4,
 "nbformat_minor": 5
}
